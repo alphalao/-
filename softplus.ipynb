{
 "cells": [
  {
   "cell_type": "code",
   "execution_count": 1,
   "metadata": {
    "scrolled": true
   },
   "outputs": [
    {
     "name": "stdout",
     "output_type": "stream",
     "text": [
      "*********************************************homework2***********************************************\n",
      "train:400\n"
     ]
    },
    {
     "data": {
      "text/plain": [
       "<Figure size 640x480 with 1 Axes>"
      ]
     },
     "metadata": {},
     "output_type": "display_data"
    },
    {
     "name": "stdout",
     "output_type": "stream",
     "text": [
      "[-4.3949191  -0.00606095]\n",
      "train:400\n"
     ]
    },
    {
     "data": {
      "text/plain": [
       "<Figure size 640x480 with 1 Axes>"
      ]
     },
     "metadata": {},
     "output_type": "display_data"
    },
    {
     "name": "stdout",
     "output_type": "stream",
     "text": [
      "[-4.3949191  -0.00606095]\n",
      "*********************************************homework3***********************************************\n",
      "find not\n"
     ]
    },
    {
     "data": {
      "text/plain": [
       "<Figure size 640x480 with 1 Axes>"
      ]
     },
     "metadata": {},
     "output_type": "display_data"
    },
    {
     "name": "stdout",
     "output_type": "stream",
     "text": [
      "[-3.87508735  2.12740836]\n",
      "find not\n"
     ]
    },
    {
     "data": {
      "text/plain": [
       "<Figure size 640x480 with 1 Axes>"
      ]
     },
     "metadata": {},
     "output_type": "display_data"
    },
    {
     "name": "stdout",
     "output_type": "stream",
     "text": [
      "[-3.87508735  2.12740836]\n",
      "*********************************************homework4***********************************************\n",
      "find not\n"
     ]
    },
    {
     "data": {
      "text/plain": [
       "<Figure size 640x480 with 1 Axes>"
      ]
     },
     "metadata": {},
     "output_type": "display_data"
    },
    {
     "name": "stdout",
     "output_type": "stream",
     "text": [
      "[-2.07565496  1.82886637]\n",
      "find not\n"
     ]
    },
    {
     "data": {
      "text/plain": [
       "<Figure size 640x480 with 1 Axes>"
      ]
     },
     "metadata": {},
     "output_type": "display_data"
    },
    {
     "name": "stdout",
     "output_type": "stream",
     "text": [
      "[-2.07565496  1.82886637]\n",
      "*****************************************************homework5*************************************************\n",
      "可以看出，随着数据及出现了交互点，感知器就不能用了，这个仅仅适用于数据线性能分\n"
     ]
    }
   ],
   "source": [
    "from dataset import *\n",
    "from perce import Perce_cell\n",
    "import pandas as pd"
   ]
  },
  {
   "cell_type": "code",
   "execution_count": 133,
   "metadata": {},
   "outputs": [],
   "source": [
    "class softplus:\n",
    "    w_nodes={}\n",
    "    train_line=[]\n",
    "    def train(self,train_data,train_label):\n",
    "        def splite_data(labela,labelb):\n",
    "            def f(x):\n",
    "                if x==labela:\n",
    "                    return 1\n",
    "                return -1\n",
    "            data=pd.DataFrame(data=np.hstack([train_label,train_data]))\n",
    "            data=pd.concat([data.loc[data[0]==labela],data.loc[data[0]==labelb]],axis=0)\n",
    "            data[0]=data[0].apply(lambda x:f(x))\n",
    "            return np.array(data)[:,1:],np.array(data[0])\n",
    "        def creat_list(list_now):\n",
    "            if(len(list_now)-1):\n",
    "                self.train_line.append(list_now[1:])\n",
    "                creat_list(list_now[1:])\n",
    "        def creat_w(list_now):\n",
    "            b=len(self.train_line)+1\n",
    "            if(len(list_now)):\n",
    "                perce=Perce_cell()\n",
    "                creat_w(list_now[1:])\n",
    "                for i in list_now[0]:\n",
    "                    data,label=splite_data(b-len(list_now),i)\n",
    "                    self.w_nodes[b-len(list_now)].append(perce.train(step=1000,train_data=data,train_label=label.reshape([label.shape[0],1])))\n",
    "        self.w_nodes={key:[] for key in set(train_label.T[0])}\n",
    "        creat_list(list(set(train_label.T[0])))\n",
    "        creat_w(self.train_line)\n",
    "        return splite_data(2,3)"
   ]
  },
  {
   "cell_type": "code",
   "execution_count": 158,
   "metadata": {
    "scrolled": false
   },
   "outputs": [],
   "source": [
    "soft=softplus()\n",
    "train_data,train_label=data_build(dim=1,size=[5,5,5,2],label=(\"list\",[1,2,3]),sdv=[[-10,0],[4,0],[10,0]])"
   ]
  },
  {
   "cell_type": "code",
   "execution_count": 159,
   "metadata": {
    "scrolled": true
   },
   "outputs": [
    {
     "name": "stdout",
     "output_type": "stream",
     "text": [
      "train:250\n",
      "train:20\n",
      "train:20\n"
     ]
    },
    {
     "data": {
      "text/plain": [
       "(array([[ 1.        ,  2.39440534, -0.78397876],\n",
       "        [ 1.        ,  4.02285395,  0.82433434],\n",
       "        [ 1.        ,  4.84109427, -0.97827355],\n",
       "        [ 1.        ,  2.41818212, -0.12910766],\n",
       "        [ 1.        ,  3.6912165 , -1.1661448 ],\n",
       "        [ 1.        , 11.2579156 ,  0.70067735],\n",
       "        [ 1.        , 10.39121622,  0.02958404],\n",
       "        [ 1.        ,  9.81734786,  0.19925142],\n",
       "        [ 1.        ,  8.46119547,  0.25264507],\n",
       "        [ 1.        , 10.06813042, -1.81449615]]),\n",
       " array([ 1,  1,  1,  1,  1, -1, -1, -1, -1, -1], dtype=int64))"
      ]
     },
     "execution_count": 159,
     "metadata": {},
     "output_type": "execute_result"
    }
   ],
   "source": [
    "soft.train_line=[]\n",
    "data,label=soft.train(train_data,train_label)\n",
    "soft.w_nodes\n",
    "data,label"
   ]
  },
  {
   "cell_type": "code",
   "execution_count": 157,
   "metadata": {},
   "outputs": [],
   "source": [
    "a=np.array([[-1.30715455,  0.98068136],\n",
    "        [ 0.45195266,  1.78475512],\n",
    "        [ 1.15890444, -1.01452974],\n",
    "        [-0.52725562,  0.57122077],\n",
    "        [ 0.41441051, -0.59805277],\n",
    "        [ 8.50296204,  0.60564664],\n",
    "        [ 7.93871456, -0.04984995],\n",
    "        [ 8.7624505 , -0.37837547],\n",
    "        [ 6.67736935, -1.50189029],\n",
    "        [ 7.5653888 ,  0.06280098]])\n",
    "b=np.array([ 1,  1,  1,  1,  1, -1, -1, -1, -1, -1])\n",
    "b=b.reshape([b.shape[0],1])"
   ]
  },
  {
   "cell_type": "code",
   "execution_count": 144,
   "metadata": {},
   "outputs": [
    {
     "name": "stdout",
     "output_type": "stream",
     "text": [
      "find not\n"
     ]
    },
    {
     "data": {
      "text/plain": [
       "array([-5.55759408,  1.89758658])"
      ]
     },
     "execution_count": 144,
     "metadata": {},
     "output_type": "execute_result"
    }
   ],
   "source": [
    "perce=Perce_cell()\n",
    "perce.train(train_data=a,train_label=b)"
   ]
  },
  {
   "cell_type": "code",
   "execution_count": null,
   "metadata": {},
   "outputs": [],
   "source": []
  }
 ],
 "metadata": {
  "kernelspec": {
   "display_name": "Python 3",
   "language": "python",
   "name": "python3"
  },
  "language_info": {
   "codemirror_mode": {
    "name": "ipython",
    "version": 3
   },
   "file_extension": ".py",
   "mimetype": "text/x-python",
   "name": "python",
   "nbconvert_exporter": "python",
   "pygments_lexer": "ipython3",
   "version": "3.6.5"
  }
 },
 "nbformat": 4,
 "nbformat_minor": 2
}
