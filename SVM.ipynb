{
 "cells": [
  {
   "cell_type": "code",
   "execution_count": 1,
   "metadata": {},
   "outputs": [],
   "source": [
    "import cvxopt as opt\n",
    "from cvxopt import matrix,solvers\n",
    "import numpy as np\n",
    "import math"
   ]
  },
  {
   "cell_type": "code",
   "execution_count": 2,
   "metadata": {},
   "outputs": [],
   "source": [
    "from dataset import *"
   ]
  },
  {
   "cell_type": "code",
   "execution_count": 3,
   "metadata": {},
   "outputs": [],
   "source": [
    "class svm_kernel:\n",
    "    kernelfuc=None\n",
    "    b=0\n",
    "    alpha,SV,lam,y=[],[],[],[]\n",
    "    def kernel_null(self,x1,x2):#线性\n",
    "        return x1.T.dot(x2)\n",
    "    def kernel_theta2(self,x1,x2):#多项式\n",
    "        line=x1.T.dot(x2)\n",
    "        return math.pow(self.lam[0]+self.lam[1]*line,self.lam[2])\n",
    "    def kernel_goss(self,x1,x2):#高斯\n",
    "        line=-1*self.lam[0]*(x1-x2).T.dot(x1-x2)\n",
    "        return math.exp(line)\n",
    "    def svm_train(self,train_data,train_label,kernel=(\"line\",0.00001)):\n",
    "        def creatqt(train_data,train_label,kernelfuc):#创建QP条件\n",
    "            P=np.zeros([train_data.shape[0],train_data.shape[0]])\n",
    "            for c in range(train_data.shape[0]):\n",
    "                for b in range(train_data.shape[0]):\n",
    "                    P[c][b]=train_label[c][0]*train_label[b][0]*kernelfuc(train_data[c],train_data[b])\n",
    "            q=np.ones(shape=[train_data.shape[0],1])*-1\n",
    "            A=train_label.reshape([1,train_data.shape[0]])*1.0\n",
    "            h=np.zeros([train_data.shape[0],1])\n",
    "            b=0.0\n",
    "            G=np.eye(train_data.shape[0])*-1\n",
    "            return matrix(q),matrix(P),matrix(A,),matrix(b),matrix(G),matrix(h)\n",
    "        def get_alphe_w_b(self,opt,train_data,train_label,marger):\n",
    "            index=list(np.where(opt>marger)[0])\n",
    "            for b in index:\n",
    "                self.alpha.append(opt[b])\n",
    "                self.SV.append(train_data[b])\n",
    "                self.y.append(train_label[b])\n",
    "            indexmax=opt.argmax()\n",
    "            legth=train_data.shape[0]*train_data.shape[1]\n",
    "            xs,ys=train_data[indexmax],train_label[indexmax]\n",
    "            for b in range(len(index)):\n",
    "                self.b=self.b+self.y[b]*self.alpha[b]*self.kernelfuc(self.SV[b],xs)\n",
    "            self.b=ys-self.b\n",
    "        self.kernelfuc=None\n",
    "        self.b=0\n",
    "        self.alpha,self.SV,self.lam,self.y=[],[],[],[]\n",
    "        if kernel[0]==\"line\":\n",
    "            self.kernelfuc=self.kernel_null\n",
    "        if kernel[0]==\"thetaQ\":\n",
    "            self.kernelfuc=self.kernel_theta2\n",
    "            self.lam.append(kernel[1])\n",
    "            self.lam.append(kernel[2])\n",
    "            self.lam.append(kernel[3])\n",
    "        if kernel[0]==\"goss\":\n",
    "            self.kernelfuc=self.kernel_goss\n",
    "            self.lam.append(kernel[1])\n",
    "        q,P,A,b,G,h=creatqt(train_data,train_label,self.kernelfuc)\n",
    "        opt=np.array(solvers.qp(G=G,P=P,q=q,h=h,A=A,b=b)['x'])\n",
    "        get_alphe_w_b(self,opt,train_data,train_label,kernel[-1])\n",
    "        print(opt)\n",
    "    def pre(self,test_data):\n",
    "        sig=0\n",
    "        for b,c,k in zip(self.SV,self.alpha,self.y):\n",
    "            sig=sig+self.kernelfuc(b,test_data)*c*k\n",
    "        return np.sign(sig+self.b)"
   ]
  },
  {
   "cell_type": "code",
   "execution_count": 5,
   "metadata": {
    "scrolled": true
   },
   "outputs": [
    {
     "name": "stdout",
     "output_type": "stream",
     "text": [
      "     pcost       dcost       gap    pres   dres\n",
      " 0: -7.6108e-01 -1.0817e+00  3e+01  6e+00  1e+00\n",
      " 1: -1.3378e-01 -1.2613e-01  2e+00  3e-01  6e-02\n",
      " 2: -5.4151e-03 -1.0129e-01  1e-01  5e-17  7e-16\n",
      " 3: -3.1418e-02 -4.2161e-02  1e-02  8e-18  3e-16\n",
      " 4: -3.8858e-02 -4.0691e-02  2e-03  5e-18  3e-16\n",
      " 5: -4.0003e-02 -4.0043e-02  4e-05  3e-17  3e-16\n",
      " 6: -4.0029e-02 -4.0030e-02  4e-07  8e-18  3e-16\n",
      " 7: -4.0030e-02 -4.0030e-02  4e-09  2e-17  2e-16\n",
      "Optimal solution found.\n",
      "[[4.42422630e-10]\n",
      " [4.40593355e-10]\n",
      " [6.29222587e-09]\n",
      " [2.33995557e-10]\n",
      " [1.33203025e-02]\n",
      " [2.67094023e-02]\n",
      " [2.36859333e-10]\n",
      " [5.33604829e-10]\n",
      " [2.27519352e-10]\n",
      " [5.99952264e-10]\n",
      " [6.39976788e-10]\n",
      " [2.74723756e-10]\n",
      " [2.37330675e-10]\n",
      " [2.57870282e-10]\n",
      " [4.00297106e-02]\n",
      " [2.38320544e-10]\n",
      " [6.11830533e-10]\n",
      " [2.34202310e-10]\n",
      " [2.40264919e-10]\n",
      " [5.26544796e-10]]\n"
     ]
    }
   ],
   "source": [
    "data,label=data_build(size=[10,10,2],label=(\"list\",[1,-1]),sdv=[[-5,0],[5,0]])\n",
    "svm=svm_kernel()\n",
    "a=svm.svm_train(train_data=data,train_label=label,kernel=([\"line\",0.1]))"
   ]
  },
  {
   "cell_type": "code",
   "execution_count": null,
   "metadata": {},
   "outputs": [],
   "source": [
    "svm.pre(test_data=np.array([12,25]))"
   ]
  },
  {
   "cell_type": "code",
   "execution_count": 7,
   "metadata": {},
   "outputs": [],
   "source": [
    "chinamap={'台北':[121,23],'台州':[121,28],'温州':[120,28],'北京':[116,39]}\n",
    "japanmap={'鹿儿岛':[131,30],'大阪':[135,34],'广岛':[132,34],'奈良':[135,34]}"
   ]
  },
  {
   "cell_type": "code",
   "execution_count": 8,
   "metadata": {},
   "outputs": [],
   "source": [
    "train_data,train_label=[],[]\n",
    "for b in chinamap:\n",
    "    train_data.append(chinamap[b])\n",
    "    train_label.append([-1])\n",
    "for b in japanmap:\n",
    "    train_data.append(japanmap[b])\n",
    "    train_label.append([1])\n",
    "train_data=np.array(train_data)\n",
    "train_label=np.array(train_label)"
   ]
  },
  {
   "cell_type": "code",
   "execution_count": 14,
   "metadata": {
    "scrolled": true
   },
   "outputs": [
    {
     "name": "stdout",
     "output_type": "stream",
     "text": [
      "     pcost       dcost       gap    pres   dres\n",
      " 0: -2.6418e+00 -6.5520e+00  4e+00  2e-16  2e+00\n",
      " 1: -3.2140e+00 -3.4082e+00  2e-01  5e-16  3e-01\n",
      " 2: -3.3932e+00 -3.4051e+00  1e-02  2e-16  9e-17\n",
      " 3: -3.3932e+00 -3.3934e+00  1e-04  6e-16  8e-17\n",
      " 4: -3.3932e+00 -3.3933e+00  1e-06  4e-16  7e-17\n",
      "Optimal solution found.\n",
      "[[0.86891705]\n",
      " [0.8277079 ]\n",
      " [0.8277079 ]\n",
      " [0.86891705]\n",
      " [1.13108329]\n",
      " [0.56554166]\n",
      " [1.13108329]\n",
      " [0.56554166]]\n",
      "钓鱼带是中国的\n",
      "     pcost       dcost       gap    pres   dres\n",
      " 0: -3.7349e-01 -5.6274e-01  1e+01  3e+00  1e+00\n",
      " 1: -1.0762e-01 -7.7882e-02  1e+00  3e-01  1e-01\n",
      " 2:  7.6674e-04 -5.6894e-02  6e-02  5e-17  4e-13\n",
      " 3: -1.5301e-02 -2.1085e-02  6e-03  4e-18  6e-14\n",
      " 4: -1.8896e-02 -1.9463e-02  6e-04  4e-18  6e-14\n",
      " 5: -1.9225e-02 -1.9233e-02  8e-06  3e-18  5e-14\n",
      " 6: -1.9231e-02 -1.9231e-02  8e-08  3e-18  3e-14\n",
      "Optimal solution found.\n",
      "[[1.13965687e-07]\n",
      " [1.92306035e-02]\n",
      " [3.49231438e-08]\n",
      " [1.36572349e-09]\n",
      " [1.92307112e-02]\n",
      " [1.17384498e-08]\n",
      " [1.91476613e-08]\n",
      " [1.17384498e-08]]\n",
      "钓鱼带是中国的\n",
      "     pcost       dcost       gap    pres   dres\n",
      " 0: -6.1037e-13 -1.8296e-12  8e+00  3e+00  1e+00\n",
      " 1: -1.2143e-14 -2.4414e-12  8e-02  3e-02  1e-02\n",
      " 2: -1.2883e-16 -2.4415e-12  8e-04  3e-04  1e-04\n",
      " 3:  5.8017e-18 -2.4415e-12  8e-06  3e-06  2e-06\n",
      " 4: -1.7146e-16 -2.4411e-12  8e-08  3e-08  7e-07\n",
      " 5: -1.6672e-14 -2.4080e-12  9e-10  3e-10  2e-06\n",
      " 6: -5.7901e-13 -8.8445e-13  5e-11  2e-11  1e-06\n",
      " 7: -3.2646e-15 -4.7014e-14  8e-13  3e-13  1e-06\n",
      " 8: -1.1541e-14 -9.8343e-15  1e-13  4e-14  2e-07\n",
      " 9: -1.0098e-15 -4.6683e-16  9e-15  3e-15  2e-08\n",
      "Optimal solution found.\n",
      "[[ 1.02511054e-15]\n",
      " [-6.52213547e-17]\n",
      " [ 1.00218316e-16]\n",
      " [-3.21809101e-16]\n",
      " [ 2.38611309e-15]\n",
      " [-5.65337288e-16]\n",
      " [-5.17140124e-16]\n",
      " [-5.65337288e-16]]\n",
      "钓鱼带是中国的\n"
     ]
    }
   ],
   "source": [
    "svm=svm_kernel()\n",
    "svm.svm_train(train_data=train_data,train_label=train_label,kernel=['goss',3,0.0001])\n",
    "pre()\n",
    "svm.svm_train(train_data=train_data,train_label=train_label,kernel=['line',0.0001])\n",
    "pre()\n",
    "svm.svm_train(train_data=train_data,train_label=train_label,kernel=['thetaQ',1,1,5,0])\n",
    "pre()"
   ]
  },
  {
   "cell_type": "code",
   "execution_count": 10,
   "metadata": {},
   "outputs": [],
   "source": [
    "def pre():\n",
    "    predict=svm.pre(test_data=np.array([124,26]))\n",
    "    if(predict==-1):\n",
    "        print('钓鱼带是中国的')\n",
    "    else:\n",
    "        print('钓鱼岛是日本的')"
   ]
  }
 ],
 "metadata": {
  "kernelspec": {
   "display_name": "Python 3",
   "language": "python",
   "name": "python3"
  },
  "language_info": {
   "codemirror_mode": {
    "name": "ipython",
    "version": 3
   },
   "file_extension": ".py",
   "mimetype": "text/x-python",
   "name": "python",
   "nbconvert_exporter": "python",
   "pygments_lexer": "ipython3",
   "version": "3.6.5"
  }
 },
 "nbformat": 4,
 "nbformat_minor": 2
}
